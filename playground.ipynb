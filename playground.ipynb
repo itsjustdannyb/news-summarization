{
 "cells": [
  {
   "cell_type": "markdown",
   "id": "111dde01",
   "metadata": {},
   "source": [
    "### Goal: Summaraize text and predict what category it is out of business, entertainemnt, politics, sport and tech"
   ]
  },
  {
   "cell_type": "code",
   "execution_count": 18,
   "id": "ed5a6ce6",
   "metadata": {},
   "outputs": [],
   "source": [
    "import os\n",
    "import pandas as pd\n",
    "from pathlib import Path"
   ]
  },
  {
   "cell_type": "code",
   "execution_count": 19,
   "id": "5060189d",
   "metadata": {},
   "outputs": [],
   "source": [
    "data_path = Path(r\"C:\\Users\\bamilosin\\Documents\\dataset\\nlp\\summarization\\BBC News Summary\")\n",
    "articles_path = data_path / \"News Articles\"\n",
    "summaries_path = data_path / \"Summaries\""
   ]
  },
  {
   "cell_type": "code",
   "execution_count": 24,
   "id": "fb6d32a3",
   "metadata": {},
   "outputs": [
    {
     "data": {
      "text/html": [
       "<div>\n",
       "<style scoped>\n",
       "    .dataframe tbody tr th:only-of-type {\n",
       "        vertical-align: middle;\n",
       "    }\n",
       "\n",
       "    .dataframe tbody tr th {\n",
       "        vertical-align: top;\n",
       "    }\n",
       "\n",
       "    .dataframe thead th {\n",
       "        text-align: right;\n",
       "    }\n",
       "</style>\n",
       "<table border=\"1\" class=\"dataframe\">\n",
       "  <thead>\n",
       "    <tr style=\"text-align: right;\">\n",
       "      <th></th>\n",
       "      <th>text</th>\n",
       "      <th>summary</th>\n",
       "      <th>category</th>\n",
       "    </tr>\n",
       "  </thead>\n",
       "  <tbody>\n",
       "    <tr>\n",
       "      <th>0</th>\n",
       "      <td>a ridiculously long text</td>\n",
       "      <td>long text</td>\n",
       "      <td>normal</td>\n",
       "    </tr>\n",
       "    <tr>\n",
       "      <th>1</th>\n",
       "      <td>another ridiculously long text</td>\n",
       "      <td>another long text</td>\n",
       "      <td>normal</td>\n",
       "    </tr>\n",
       "  </tbody>\n",
       "</table>\n",
       "</div>"
      ],
      "text/plain": [
       "                             text            summary category\n",
       "0        a ridiculously long text          long text   normal\n",
       "1  another ridiculously long text  another long text   normal"
      ]
     },
     "execution_count": 24,
     "metadata": {},
     "output_type": "execute_result"
    }
   ],
   "source": [
    "test_df = pd.DataFrame({\n",
    "    \"text\": [\"a ridiculously long text\", \"another ridiculously long text\"],\n",
    "    \"summary\" : [\"long text\", \"another long text\"],\n",
    "    \"category\" : [\"normal\", \"normal\"]\n",
    "})\n",
    "test_df"
   ]
  },
  {
   "cell_type": "code",
   "execution_count": 25,
   "id": "e2eedfb7",
   "metadata": {},
   "outputs": [],
   "source": [
    "# open each dir /category\n",
    "# open each file xyz.txt\n",
    "# append file to data_dictionary \n",
    "# {\n",
    "#     \"text\": [\"a ridiculously long text\", \"another ridiculously long text\"],\n",
    "#     \"summary\" : [\"long text\", \"another long text\"],\n",
    "#     \"category\" : [\"normal\", \"normal\"]\n",
    "# }"
   ]
  },
  {
   "cell_type": "code",
   "execution_count": null,
   "id": "6b819274",
   "metadata": {},
   "outputs": [],
   "source": [
    "data_dict = {\n",
    "    'text': [],\n",
    "    'summary': [],\n",
    "    'category': []\n",
    "}\n",
    "\n",
    "text_and_summary = [summaries_path, articles_path]\n",
    "categories = [\"business\", \"entertainment\", \"politics\", \"sport\", \"tech\"]\n",
    "\n",
    "\n",
    "for dir in text_and_summary:\n",
    "    for category in categories:\n",
    "        for file in os.listdir(dir / category):\n",
    "            with open (dir / category / file, 'r') as f:\n",
    "                file = f.readlines()\n",
    "                data_dict['text']"
   ]
  },
  {
   "cell_type": "code",
   "execution_count": 51,
   "id": "8e4f52af",
   "metadata": {},
   "outputs": [
    {
     "data": {
      "text/plain": [
       "['Ink helps drive democracy in Asia\\n',\n",
       " '\\n',\n",
       " \"The Kyrgyz Republic, a small, mountainous state of the former Soviet republic, is using invisible ink and ultraviolet readers in the country's elections as part of a drive to prevent multiple voting.\\n\",\n",
       " '\\n',\n",
       " 'This new technology is causing both worries and guarded optimism among different sectors of the population. In an effort to live up to its reputation in the 1990s as \"an island of democracy\", the Kyrgyz President, Askar Akaev, pushed through the law requiring the use of ink during the upcoming Parliamentary and Presidential elections. The US government agreed to fund all expenses associated with this decision.\\n',\n",
       " '\\n',\n",
       " 'The Kyrgyz Republic is seen by many experts as backsliding from the high point it reached in the mid-1990s with a hastily pushed through referendum in 2003, reducing the legislative branch to one chamber with 75 deputies. The use of ink is only one part of a general effort to show commitment towards more open elections - the German Embassy, the Soros Foundation and the Kyrgyz government have all contributed to purchase transparent ballot boxes.\\n',\n",
       " '\\n',\n",
       " \"The actual technology behind the ink is not that complicated. The ink is sprayed on a person's left thumb. It dries and is not visible under normal light.\\n\",\n",
       " '\\n',\n",
       " \"However, the presence of ultraviolet light (of the kind used to verify money) causes the ink to glow with a neon yellow light. At the entrance to each polling station, one election official will scan voter's fingers with UV lamp before allowing them to enter, and every voter will have his/her left thumb sprayed with ink before receiving the ballot. If the ink shows under the UV light the voter will not be allowed to enter the polling station. Likewise, any voter who refuses to be inked will not receive the ballot. These elections are assuming even greater significance because of two large factors - the upcoming parliamentary elections are a prelude to a potentially regime changing presidential election in the Autumn as well as the echo of recent elections in other former Soviet Republics, notably Ukraine and Georgia. The use of ink has been controversial - especially among groups perceived to be pro-government.\\n\",\n",
       " '\\n',\n",
       " 'Widely circulated articles compared the use of ink to the rural practice of marking sheep - a still common metaphor in this primarily agricultural society.\\n',\n",
       " '\\n',\n",
       " 'The author of one such article began a petition drive against the use of the ink. The greatest part of the opposition to ink has often been sheer ignorance. Local newspapers have carried stories that the ink is harmful, radioactive or even that the ultraviolet readers may cause health problems. Others, such as the aggressively middle of the road, Coalition of Non-governmental Organizations, have lauded the move as an important step forward. This type of ink has been used in many elections in the world, in countries as varied as Serbia, South Africa, Indonesia and Turkey. The other common type of ink in elections is indelible visible ink - but as the elections in Afghanistan showed, improper use of this type of ink can cause additional problems. The use of \"invisible\" ink is not without its own problems. In most elections, numerous rumors have spread about it.\\n',\n",
       " '\\n',\n",
       " 'In Serbia, for example, both Christian and Islamic leaders assured their populations that its use was not contrary to religion. Other rumours are associated with how to remove the ink - various soft drinks, solvents and cleaning products are put forward. However, in reality, the ink is very effective at getting under the cuticle of the thumb and difficult to wash off. The ink stays on the finger for at least 72 hours and for up to a week. The use of ink and readers by itself is not a panacea for election ills. The passage of the inking law is, nevertheless, a clear step forward towards free and fair elections.\" The country\\'s widely watched parliamentary elections are scheduled for 27 February.\\n',\n",
       " '\\n',\n",
       " 'David Mikosz works for the IFES, an international, non-profit organisation that supports the building of democratic societies.\\n']"
      ]
     },
     "execution_count": 51,
     "metadata": {},
     "output_type": "execute_result"
    }
   ],
   "source": [
    "file"
   ]
  },
  {
   "cell_type": "code",
   "execution_count": null,
   "id": "ffdba723",
   "metadata": {},
   "outputs": [],
   "source": []
  }
 ],
 "metadata": {
  "kernelspec": {
   "display_name": "Python 3",
   "language": "python",
   "name": "python3"
  },
  "language_info": {
   "codemirror_mode": {
    "name": "ipython",
    "version": 3
   },
   "file_extension": ".py",
   "mimetype": "text/x-python",
   "name": "python",
   "nbconvert_exporter": "python",
   "pygments_lexer": "ipython3",
   "version": "3.13.5"
  }
 },
 "nbformat": 4,
 "nbformat_minor": 5
}
