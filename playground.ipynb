{
 "cells": [
  {
   "cell_type": "markdown",
   "id": "111dde01",
   "metadata": {},
   "source": [
    "### Goal: Summaraize text and predict what category it is out of business, entertainemnt, politics, sport and tech"
   ]
  },
  {
   "cell_type": "code",
   "execution_count": 1,
   "id": "ed5a6ce6",
   "metadata": {},
   "outputs": [],
   "source": [
    "import os\n",
    "from pathlib import Path"
   ]
  },
  {
   "cell_type": "code",
   "execution_count": 9,
   "id": "5060189d",
   "metadata": {},
   "outputs": [],
   "source": [
    "data_path = Path(r\"C:\\Users\\bamilosin\\Documents\\dataset\\nlp\\summarization\\BBC News Summary\")\n",
    "articles_path = data_path / \"News Articles\"\n",
    "summaries_path = data_path / \"Summaries\""
   ]
  },
  {
   "cell_type": "code",
   "execution_count": 14,
   "id": "fb6d32a3",
   "metadata": {},
   "outputs": [
    {
     "data": {
      "text/plain": [
       "['business', 'entertainment', 'politics', 'sport', 'tech']"
      ]
     },
     "execution_count": 14,
     "metadata": {},
     "output_type": "execute_result"
    }
   ],
   "source": [
    "os.listdir(articles_path)"
   ]
  }
 ],
 "metadata": {
  "kernelspec": {
   "display_name": "Python 3",
   "language": "python",
   "name": "python3"
  },
  "language_info": {
   "codemirror_mode": {
    "name": "ipython",
    "version": 3
   },
   "file_extension": ".py",
   "mimetype": "text/x-python",
   "name": "python",
   "nbconvert_exporter": "python",
   "pygments_lexer": "ipython3",
   "version": "3.13.5"
  }
 },
 "nbformat": 4,
 "nbformat_minor": 5
}
